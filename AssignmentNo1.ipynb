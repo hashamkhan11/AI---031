{
  "nbformat": 4,
  "nbformat_minor": 0,
  "metadata": {
    "colab": {
      "provenance": [],
      "authorship_tag": "ABX9TyMwBllQwkIr8xtTqYKhztaZ",
      "include_colab_link": true
    },
    "kernelspec": {
      "name": "python3",
      "display_name": "Python 3"
    },
    "language_info": {
      "name": "python"
    }
  },
  "cells": [
    {
      "cell_type": "markdown",
      "metadata": {
        "id": "view-in-github",
        "colab_type": "text"
      },
      "source": [
        "<a href=\"https://colab.research.google.com/github/hashamkhan11/AI---031/blob/main/AssignmentNo1.ipynb\" target=\"_parent\"><img src=\"https://colab.research.google.com/assets/colab-badge.svg\" alt=\"Open In Colab\"/></a>"
      ]
    },
    {
      "cell_type": "markdown",
      "source": [
        "# **ASSIGNMENT#1**"
      ],
      "metadata": {
        "id": "8OCoORIILdic"
      }
    },
    {
      "cell_type": "markdown",
      "source": [],
      "metadata": {
        "id": "WdzxcZDO26m3"
      }
    },
    {
      "cell_type": "markdown",
      "source": [
        "**Name: Hasham Mubarak**\n",
        "\n",
        "**Reg#: SP22-BSE-031**"
      ],
      "metadata": {
        "id": "kzaRHMY5LQIw"
      }
    },
    {
      "cell_type": "markdown",
      "source": [
        "# *PYTHON CODE*"
      ],
      "metadata": {
        "id": "oD7v4bMf29SM"
      }
    },
    {
      "cell_type": "code",
      "source": [
        "from collections import deque\n",
        "\n",
        "def bfs_shortest_path(start, goal, connections):\n",
        "    queue = deque([(start, [start])])\n",
        "    visited = set([start])\n",
        "\n",
        "    while queue:\n",
        "        current_city, path = queue.popleft()\n",
        "\n",
        "        if current_city == goal:\n",
        "            return path\n",
        "\n",
        "        for neighbor in connections[current_city]:\n",
        "            if neighbor not in visited:\n",
        "                visited.add(neighbor)\n",
        "                queue.append((neighbor, path + [neighbor]))\n",
        "\n",
        "    return None\n",
        "\n",
        "connections = {\n",
        "    \"Islamabad\": [\"Rawalpindi\", \"Lahore\", \"Peshawar\"],\n",
        "    \"Rawalpindi\": [\"Islamabad\", \"Peshawar\", \"Quetta\"],\n",
        "    \"Peshawar\": [\"Islamabad\", \"Rawalpindi\", \"Quetta\"],\n",
        "    \"Lahore\": [\"Islamabad\", \"Multan\", \"Quetta\"],\n",
        "    \"Multan\": [\"Lahore\", \"Karachi\", \"Quetta\"],\n",
        "    \"Quetta\": [\"Rawalpindi\", \"Peshawar\", \"Multan\", \"Karachi\"],\n",
        "    \"Karachi\": [\"Multan\", \"Quetta\"]\n",
        "}\n",
        "\n",
        "shortest_path = bfs_shortest_path(\"Islamabad\", \"Karachi\", connections)\n",
        "\n",
        "print(\"Shortest path from Islamabad to Karachi is:\", shortest_path)\n"
      ],
      "metadata": {
        "id": "ax54wURBLUZ0",
        "colab": {
          "base_uri": "https://localhost:8080/"
        },
        "outputId": "5ba2b309-3e1f-4cad-d295-26130c17eee0"
      },
      "execution_count": null,
      "outputs": [
        {
          "output_type": "stream",
          "name": "stdout",
          "text": [
            "Shortest path from Islamabad to Karachi is: ['Islamabad', 'Rawalpindi', 'Quetta', 'Karachi']\n"
          ]
        }
      ]
    }
  ]
}