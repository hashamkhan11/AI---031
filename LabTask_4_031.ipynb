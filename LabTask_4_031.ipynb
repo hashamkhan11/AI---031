{
  "nbformat": 4,
  "nbformat_minor": 0,
  "metadata": {
    "colab": {
      "provenance": [],
      "authorship_tag": "ABX9TyPKux6/HJy00hdRSaFowI5l",
      "include_colab_link": true
    },
    "kernelspec": {
      "name": "python3",
      "display_name": "Python 3"
    },
    "language_info": {
      "name": "python"
    }
  },
  "cells": [
    {
      "cell_type": "markdown",
      "metadata": {
        "id": "view-in-github",
        "colab_type": "text"
      },
      "source": [
        "<a href=\"https://colab.research.google.com/github/hashamkhan11/AI---031/blob/main/LabTask_4_031.ipynb\" target=\"_parent\"><img src=\"https://colab.research.google.com/assets/colab-badge.svg\" alt=\"Open In Colab\"/></a>"
      ]
    },
    {
      "cell_type": "markdown",
      "source": [
        "# LAB TASK # 4"
      ],
      "metadata": {
        "id": "-XLfiQWNF-d3"
      }
    },
    {
      "cell_type": "markdown",
      "source": [
        "# NAME : HASHAM MUBARAK\n",
        "\n",
        "# REG# : SP22-BSE-031"
      ],
      "metadata": {
        "id": "YQcYs97BFzoV"
      }
    },
    {
      "cell_type": "markdown",
      "source": [
        "**Task 1: A* Algorithm for Pathfinding**"
      ],
      "metadata": {
        "id": "3nUBB5A6CLQt"
      }
    },
    {
      "cell_type": "code",
      "execution_count": null,
      "metadata": {
        "id": "I9vYR22CBZ9G"
      },
      "outputs": [],
      "source": [
        "import heapq\n",
        "\n",
        "class Node:\n",
        "    def __init__(self, position, g=0, h=0):\n",
        "        self.position = position\n",
        "        self.g = g\n",
        "        self.h = h\n",
        "        self.f = g + h\n",
        "\n",
        "    def __lt__(self, other):\n",
        "        return self.f < other.f\n",
        "\n",
        "def heuristic(a, b):\n",
        "\n",
        "    return abs(a[0] - b[0]) + abs(a[1] - b[1])\n",
        "\n",
        "def astar(grid, start, goal):\n",
        "    open_list = []\n",
        "\n",
        "    closed_set = set()\n",
        "\n",
        "    start_node = Node(start, 0, heuristic(start, goal))\n",
        "\n",
        "    heapq.heappush(open_list, start_node)\n",
        "\n",
        "    while open_list:\n",
        "        current_node = heapq.heappop(open_list)\n",
        "\n",
        "\n",
        "        if current_node.position == goal:\n",
        "\n",
        "            return current_node\n",
        "\n",
        "\n",
        "        closed_set.add(current_node.position)\n",
        "\n",
        "        neighbors = [(0, 1), (1, 0), (0, -1), (-1, 0)]\n",
        "\n",
        "        for dx, dy in neighbors:\n",
        "\n",
        "            neighbor_pos = (current_node.position[0] + dx, current_node.position[1] + dy)\n",
        "\n",
        "            if (0 <= neighbor_pos[0] < len(grid) and\n",
        "                0 <= neighbor_pos[1] < len(grid[0]) and\n",
        "                grid[neighbor_pos[0]][neighbor_pos[1]] == 0 and\n",
        "                neighbor_pos not in closed_set):\n",
        "                g = current_node.g + 1\n",
        "                h = heuristic(neighbor_pos, goal)\n",
        "                neighbor_node = Node(neighbor_pos, g, h)\n",
        "\n",
        "\n",
        "                if not any(node.position == neighbor_node.position and node.g <= neighbor_node.g for node in open_list):\n",
        "                    heapq.heappush(open_list, neighbor_node)\n",
        "\n",
        "def reconstruct_path(goal_node):\n",
        "    path = []\n",
        "    current = goal_node\n",
        "    while current:\n",
        "        path.append(current.position)\n",
        "        current = None  # I need to implement backtracking to find the parent\n",
        "    return path[::-1]\n",
        "\n",
        "grid = [\n",
        "    [0, 0, 1, 0, 0],\n",
        "    [0, 0, 1, 0, 0],\n",
        "    [0, 0, 0, 0, 1],\n",
        "    [0, 1, 1, 0, 0],\n",
        "    [0, 0, 0, 1, 0]\n",
        "]\n",
        "\n",
        "start = (0, 0)\n",
        "goal = (4, 4)\n",
        "goal_node = astar(grid, start, goal)\n",
        "if goal_node:\n",
        "    path = reconstruct_path(goal_node)\n",
        "    for pos in path:\n",
        "        grid[pos[0]][pos[1]] = 'P'  # Marking the path with 'P'\n",
        "\n",
        "for row in grid:\n",
        "    print(row)\n"
      ]
    },
    {
      "cell_type": "markdown",
      "source": [],
      "metadata": {
        "id": "J-7tddQFFx83"
      }
    },
    {
      "cell_type": "markdown",
      "source": [
        "**Water Jug Problem using A* Algorithm**"
      ],
      "metadata": {
        "id": "vu2BHc5-DCnC"
      }
    },
    {
      "cell_type": "code",
      "source": [
        "from collections import deque\n",
        "\n",
        "def water_jug_problem(capacities, target):\n",
        "    initial_state = (0, 0)  # Starting with both jugs empty\n",
        "    queue = deque([initial_state])\n",
        "    visited = set()\n",
        "    visited.add(initial_state)\n",
        "\n",
        "    while queue:\n",
        "        current_state = queue.popleft()\n",
        "        jug1, jug2 = current_state\n",
        "\n",
        "        if jug1 == target or jug2 == target:  # I found a solution\n",
        "            return current_state\n",
        "\n",
        "        possible_states = [\n",
        "            (capacities[0], jug2),  # Fill jug1\n",
        "            (jug1, capacities[1]),  # Fill jug2\n",
        "            (0, jug2),              # Empty jug1\n",
        "            (jug1, 0),              # Empty jug2\n",
        "            (max(0, jug1 - (capacities[1] - jug2)), min(capacities[1], jug2 + jug1)),  # Pour jug1 to jug2\n",
        "            (min(capacities[0], jug1 + jug2), max(0, jug2 - (capacities[0] - jug1)))   # Pour jug2 to jug1\n",
        "        ]\n",
        "\n",
        "        for state in possible_states:\n",
        "            if state not in visited:  # I haven't visited this state yet\n",
        "                visited.add(state)\n",
        "                queue.append(state)\n",
        "\n",
        "capacities = (4, 3)\n",
        "target = 2\n",
        "solution = water_jug_problem(capacities, target)\n",
        "print(\"Final state:\", solution)\n"
      ],
      "metadata": {
        "id": "5jpoQwmuDgKy"
      },
      "execution_count": null,
      "outputs": []
    },
    {
      "cell_type": "markdown",
      "source": [
        "**Task 2: Hill-Climbing Algorithm for the 8-Queen Problem**"
      ],
      "metadata": {
        "id": "AMd71BaxDjKU"
      }
    },
    {
      "cell_type": "code",
      "source": [
        "import random\n",
        "\n",
        "def print_board(board):\n",
        "    for row in board:\n",
        "        print(\" \".join(row))\n",
        "\n",
        "def hill_climbing(n=8):\n",
        "    board = [-1] * n\n",
        "    for i in range(n):\n",
        "        board[i] = random.randint(0, n-1)  # Random initial placement\n",
        "\n",
        "    while True:\n",
        "        conflicts = count_conflicts(board)\n",
        "        if conflicts == 0:  # I found a solution\n",
        "            return board\n",
        "\n",
        "        next_board = board[:]\n",
        "        best_conflicts = conflicts\n",
        "\n",
        "        for col in range(n):\n",
        "            for row in range(n):\n",
        "                if row != board[col]:\n",
        "                    next_board[col] = row\n",
        "                    new_conflicts = count_conflicts(next_board)\n",
        "                    if new_conflicts < best_conflicts:\n",
        "                        best_conflicts = new_conflicts\n",
        "                        board = next_board[:]\n",
        "\n",
        "        if best_conflicts == conflicts:  # I'm stuck, need to exit\n",
        "            break\n",
        "\n",
        "def count_conflicts(board):\n",
        "    conflicts = 0\n",
        "    for i in range(len(board)):\n",
        "        for j in range(i + 1, len(board)):\n",
        "            if board[i] == board[j] or abs(board[i] - board[j]) == abs(i - j):\n",
        "                conflicts += 1\n",
        "    return conflicts\n",
        "\n",
        "solution = hill_climbing()\n",
        "print(\"Solution found:\")\n",
        "print_board([[\"Q\" if col == solution[i] else \".\" for col in range(8)] for i in range(8)])\n"
      ],
      "metadata": {
        "id": "yeuuqWxFDpiH"
      },
      "execution_count": null,
      "outputs": []
    },
    {
      "cell_type": "markdown",
      "source": [
        "**Task 3: Mini-Max Algorithm for Tic-Tac-Toe**"
      ],
      "metadata": {
        "id": "ynES_acPDr7n"
      }
    },
    {
      "cell_type": "code",
      "source": [
        "import math\n",
        "\n",
        "def print_board(board):\n",
        "    for row in board:\n",
        "        print(\" \".join(row))\n",
        "    print()\n",
        "\n",
        "def check_winner(board):\n",
        "    for row in board:\n",
        "        if row.count(row[0]) == 3 and row[0] != \" \":\n",
        "            return row[0]\n",
        "    for col in range(3):\n",
        "        if all(board[row][col] == board[0][col] and board[0][col] != \" \" for row in range(3)):\n",
        "            return board[0][col]\n",
        "    if all(board[i][i] == board[0][0] and board[0][0] != \" \" for i in range(3)):\n",
        "        return board[0][0]\n",
        "    if all(board[i][2 - i] == board[0][2] and board[0][2] != \" \" for i in range(3)):\n",
        "        return board[0][2]\n",
        "    return None\n",
        "\n",
        "def minimax(board, depth, is_maximizing):\n",
        "    winner = check_winner(board)\n",
        "    if winner == \"X\":\n",
        "        return -1\n",
        "    elif winner == \"O\":\n",
        "        return 1\n",
        "    elif all(cell != \" \" for row in board for cell in row):\n",
        "        return 0\n",
        "\n",
        "    if is_maximizing:\n",
        "        best_score = -math.inf\n",
        "        for i in range(3):\n",
        "            for j in range(3):\n",
        "                if board[i][j] == \" \":\n",
        "                    board[i][j] = \"O\"\n",
        "                    score = minimax(board, depth + 1, False)\n",
        "                    board[i][j] = \" \"\n",
        "                    best_score = max(score, best_score)\n",
        "        return best_score\n",
        "    else:\n",
        "        best_score = math.inf\n",
        "        for i in range(3):\n",
        "            for j in range(3):\n",
        "                if board[i][j] == \" \":\n",
        "                    board[i][j] = \"X\"\n",
        "                    score = minimax(board, depth + 1, True)\n",
        "                    board[i][j] = \" \"\n",
        "                    best_score = min(score, best_score)\n",
        "        return best_score\n",
        "\n",
        "def best_move(board):\n",
        "    best_score = -math.inf\n",
        "    move = (-1, -1)\n",
        "    for i in range(3):\n",
        "        for j in range(3):\n",
        "            if board[i][j] == \" \":\n",
        "                board[i][j] = \"O\"\n",
        "                score = minimax(board, 0, False)\n",
        "                board[i][j] = \" \"\n",
        "                if score > best_score:\n",
        "                    best_score = score\n",
        "                    move = (i, j)\n",
        "    return move\n",
        "\n",
        "board = [[\" \" for _ in range(3)] for _ in range(3)]\n",
        "print(\"Initial Board:\")\n",
        "print_board(board)\n",
        "\n",
        "while True:\n",
        "    row, col = best_move(board)\n",
        "    board[row][col] = \"O\"\n",
        "    print(\"AI's Move:\")\n",
        "    print_board(board)\n",
        "    if check_winner(board):\n",
        "        print(\"AI wins!\")\n",
        "        break\n",
        "\n",
        "    # Now it's the player's turn\n",
        "    while True:\n",
        "        try:\n",
        "            player_move = input(\"Enter your move (row and column, e.g., '1 1' for the center): \")\n",
        "            row, col = map(int, player_move.split())\n",
        "            if board[row][col] == \" \":\n",
        "                board[row][col] = \"X\"\n",
        "                break\n",
        "            else:\n",
        "                print(\"This cell is already taken. Try again.\")\n",
        "        except (ValueError, IndexError):\n",
        "            print(\"Invalid input. Please enter row and column numbers between 0 and 2.\")\n",
        "\n",
        "    print_board(board)\n",
        "    if check_winner(board):\n",
        "        print(\"You win!\")\n",
        ""
      ],
      "metadata": {
        "id": "mtTqzKLDD0qm"
      },
      "execution_count": null,
      "outputs": []
    }
  ]
}