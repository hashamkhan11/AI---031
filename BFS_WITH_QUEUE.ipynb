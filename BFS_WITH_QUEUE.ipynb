{
  "nbformat": 4,
  "nbformat_minor": 0,
  "metadata": {
    "colab": {
      "provenance": [],
      "authorship_tag": "ABX9TyMHtnR/3i/waLxxtx8SZ5KG",
      "include_colab_link": true
    },
    "kernelspec": {
      "name": "python3",
      "display_name": "Python 3"
    },
    "language_info": {
      "name": "python"
    }
  },
  "cells": [
    {
      "cell_type": "markdown",
      "metadata": {
        "id": "view-in-github",
        "colab_type": "text"
      },
      "source": [
        "<a href=\"https://colab.research.google.com/github/hashamkhan11/AI---031/blob/main/BFS_WITH_QUEUE.ipynb\" target=\"_parent\"><img src=\"https://colab.research.google.com/assets/colab-badge.svg\" alt=\"Open In Colab\"/></a>"
      ]
    },
    {
      "cell_type": "markdown",
      "source": [
        "# **LAB TASK - BFS USING QUEUE (DEQUEU)**"
      ],
      "metadata": {
        "id": "SZpBdoWUY7h5"
      }
    },
    {
      "cell_type": "markdown",
      "source": [
        "**NAME : HASHAM MUBARAK**\n",
        "\n",
        "**REG#: SP22-BSE-031**\n",
        "\n",
        "**SECTION: 6A**"
      ],
      "metadata": {
        "id": "_A_EcbI-Yj6Z"
      }
    },
    {
      "cell_type": "markdown",
      "source": [
        "\n",
        "\n",
        "---\n",
        "\n"
      ],
      "metadata": {
        "id": "3DXIRhhjZqXo"
      }
    },
    {
      "cell_type": "markdown",
      "source": [
        "**Function Definition:** We define a bfs function that takes a graph and a starting node.\n",
        "\n",
        "\n",
        "**Initialization:**\n",
        "We initialize a queue with the starting node.\n",
        "A set tracks visited nodes to prevent revisiting.\n",
        "A list records the order of traversal.\n",
        "\n",
        "\n",
        "**Traversal:**\n",
        "While there are nodes in the queue, we:\n",
        "Dequeue a node and add it to the traversal order.\n",
        "Explore its neighbors; if they haven't been visited, we add them to the queue and mark them as visited.\n",
        "\n",
        "\n",
        "**Output:** The function returns the order of nodes visited during the BFS.\n",
        "\n",
        "\n",
        "**Example:**\n",
        "We use this BFS function on a class graph, starting from the node \"Hasham\", and print the order in which the nodes are visited."
      ],
      "metadata": {
        "id": "IxgNIVE-aBSI"
      }
    },
    {
      "cell_type": "markdown",
      "source": [
        "\n",
        "\n",
        "---\n",
        "\n"
      ],
      "metadata": {
        "id": "uF1j-hhNaPbY"
      }
    },
    {
      "cell_type": "markdown",
      "source": [
        "# **CODE:**"
      ],
      "metadata": {
        "id": "kKMYxy6TZvH_"
      }
    },
    {
      "cell_type": "code",
      "execution_count": 2,
      "metadata": {
        "colab": {
          "base_uri": "https://localhost:8080/"
        },
        "id": "0pt_x51dXRCP",
        "outputId": "3cf23a8c-cd42-4ef3-dd80-4382a544c862"
      },
      "outputs": [
        {
          "output_type": "stream",
          "name": "stdout",
          "text": [
            "BFS Order: ['Hasham', 'Subhan', 'Asfa', 'Adan', 'Amina']\n"
          ]
        }
      ],
      "source": [
        "from collections import deque\n",
        "\n",
        "def bfs(g, start):\n",
        "    q = deque([start])\n",
        "    visited = set([start])\n",
        "    order = []\n",
        "\n",
        "    while q:\n",
        "        node = q.popleft()\n",
        "        order.append(node)\n",
        "\n",
        "        for neighbor in g[node]:\n",
        "            if neighbor not in visited:\n",
        "                visited.add(neighbor)\n",
        "                q.append(neighbor)\n",
        "\n",
        "    return order\n",
        "\n",
        "class_graph = {\n",
        "    'Hasham': ['Subhan', 'Asfa', 'Adan'],\n",
        "    'Subhan': ['Hasham', 'Asfa', 'Amina'],\n",
        "    'Asfa': ['Hasham', 'Subhan', 'Amina'],\n",
        "    'Adan': ['Hasham', 'Amina'],\n",
        "    'Amina': ['Subhan', 'Asfa', 'Adan']\n",
        "}\n",
        "\n",
        "bfs_result = bfs(class_graph, 'Hasham')\n",
        "\n",
        "print(\"BFS Order:\", bfs_result)\n"
      ]
    },
    {
      "cell_type": "markdown",
      "source": [],
      "metadata": {
        "id": "rD1BUoIUYi56"
      }
    }
  ]
}